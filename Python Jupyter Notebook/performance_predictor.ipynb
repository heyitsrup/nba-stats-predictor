{
 "cells": [
  {
   "cell_type": "markdown",
   "metadata": {},
   "source": [
    "# Imports"
   ]
  },
  {
   "cell_type": "code",
   "execution_count": 1,
   "metadata": {},
   "outputs": [],
   "source": [
    "from tqdm import tqdm\n",
    "import numpy as np\n",
    "import json\n",
    "import os\n",
    "\n",
    "import torch\n",
    "from torch.utils.data import Dataset, DataLoader\n",
    "import torch.nn as nn\n",
    "import torch.optim as optim\n",
    "\n",
    "device = torch.device(\"cuda\" if torch.cuda.is_available() else \"cpu\")"
   ]
  },
  {
   "cell_type": "markdown",
   "metadata": {},
   "source": [
    "# Load JSON Files as Datasets"
   ]
  },
  {
   "cell_type": "code",
   "execution_count": 2,
   "metadata": {},
   "outputs": [],
   "source": [
    "class JSONDataset(Dataset):\n",
    "    def __init__(self, json_file, transform=None):\n",
    "        with open(json_file, 'r', encoding='utf-8') as f:\n",
    "            self.data = json.load(f)\n",
    "        self.transform = transform\n",
    "    \n",
    "    def __len__(self):\n",
    "        return len(self.data)\n",
    "    \n",
    "    def __getitem__(self, idx):\n",
    "        if not self.data:\n",
    "            raise IndexError(\"Dataset is empty or not loaded properly.\")\n",
    "        \n",
    "        sample = self.data[idx]\n",
    "        \n",
    "        if self.transform:\n",
    "            sample = self.transform(sample)\n",
    "        \n",
    "        return sample\n",
    "\n",
    "def custom_transform(sample):\n",
    "    input_data = torch.tensor([\n",
    "        sample['PTS'], \n",
    "        sample['REB'], \n",
    "        sample['AST'], \n",
    "        sample['STL'], \n",
    "        sample['BLK']\n",
    "    ], dtype=torch.float32)\n",
    "    \n",
    "    target = input_data.clone()\n",
    "    \n",
    "    return input_data, target"
   ]
  },
  {
   "cell_type": "code",
   "execution_count": 3,
   "metadata": {},
   "outputs": [],
   "source": [
    "NUM_EPOCHS = 40\n",
    "BATCH_SIZE = 2\n",
    "lr = 0.001"
   ]
  },
  {
   "cell_type": "code",
   "execution_count": 4,
   "metadata": {},
   "outputs": [
    {
     "name": "stdout",
     "output_type": "stream",
     "text": [
      "Relative JSON file paths:\n",
      "['Luka_Doncic_2018-19_regular_season_games.json', 'Luka_Doncic_2019-20_regular_season_games.json', 'Luka_Doncic_2020-21_regular_season_games.json', 'Luka_Doncic_2021-22_regular_season_games.json', 'Luka_Doncic_2022-23_regular_season_games.json', 'Luka_Doncic_2023-24_regular_season_games.json']\n"
     ]
    }
   ],
   "source": [
    "def get_json_file_paths(directory):\n",
    "    json_file_paths = []\n",
    "    for root, dirs, files in os.walk(directory):\n",
    "        for file in files:\n",
    "            if file.endswith(\".json\"):\n",
    "                json_file_paths.append(os.path.relpath(os.path.join(root, file), directory))\n",
    "    return json_file_paths\n",
    "\n",
    "json_file_paths = get_json_file_paths(\".\")\n",
    "print(\"Relative JSON file paths:\")\n",
    "print(json_file_paths)"
   ]
  },
  {
   "cell_type": "code",
   "execution_count": 5,
   "metadata": {},
   "outputs": [],
   "source": [
    "train_datasets = [JSONDataset(json_file, transform=custom_transform) for json_file in json_file_paths[0:-2]]\n",
    "train_loaders = [DataLoader(dataset, batch_size=BATCH_SIZE, shuffle=True) for dataset in train_datasets]\n",
    "\n",
    "val_dataset = JSONDataset(json_file_paths[-2], transform=custom_transform)\n",
    "val_loader = DataLoader(val_dataset, batch_size=BATCH_SIZE, shuffle=False)\n",
    "\n",
    "test_dataset = JSONDataset(json_file_paths[-1], transform=custom_transform)\n",
    "test_loader = DataLoader(test_dataset, batch_size=BATCH_SIZE, shuffle=False)"
   ]
  },
  {
   "cell_type": "markdown",
   "metadata": {},
   "source": [
    "# Setup NN Model, Loss function & Validation Function"
   ]
  },
  {
   "cell_type": "code",
   "execution_count": 6,
   "metadata": {},
   "outputs": [],
   "source": [
    "class LSTMModel(nn.Module):\n",
    "    def __init__(self, input_size, hidden_size, output_size, num_layers=1):\n",
    "        super(LSTMModel, self).__init__()\n",
    "        self.hidden_size = hidden_size\n",
    "        self.num_layers = num_layers\n",
    "        self.lstm = nn.LSTM(input_size, hidden_size, num_layers, batch_first=True)\n",
    "        self.fc = nn.Linear(hidden_size, output_size)\n",
    "    \n",
    "    def forward(self, x):\n",
    "        h0 = torch.zeros(self.num_layers, x.size(0), self.hidden_size).to(x.device)\n",
    "        c0 = torch.zeros(self.num_layers, x.size(0), self.hidden_size).to(x.device)\n",
    "        \n",
    "        out, _ = self.lstm(x, (h0, c0))\n",
    "        \n",
    "        out = self.fc(out[:, -1, :])\n",
    "        return out"
   ]
  },
  {
   "cell_type": "code",
   "execution_count": 7,
   "metadata": {},
   "outputs": [],
   "source": [
    "model = LSTMModel(5,128,5).to(device)\n",
    "\n",
    "criterion = nn.MSELoss()\n",
    "\n",
    "optimizer = optim.Adam(model.parameters(), lr=lr, betas=(0.9, 0.95), weight_decay=0)"
   ]
  },
  {
   "cell_type": "code",
   "execution_count": 8,
   "metadata": {},
   "outputs": [],
   "source": [
    "def test(loader, model, criterion):\n",
    "    model.eval()\n",
    "    with torch.no_grad():\n",
    "        total_loss = 0\n",
    "        for inputs, targets in loader:\n",
    "            inputs, targets = inputs.to(device), targets.to(device)\n",
    "            inputs = inputs.unsqueeze(1)\n",
    "            outputs = model(inputs)\n",
    "            loss = criterion(outputs, targets)\n",
    "            total_loss += loss.item()\n",
    "    return total_loss / len(loader)"
   ]
  },
  {
   "cell_type": "markdown",
   "metadata": {},
   "source": [
    "# Training Loop"
   ]
  },
  {
   "cell_type": "code",
   "execution_count": 9,
   "metadata": {},
   "outputs": [
    {
     "name": "stdout",
     "output_type": "stream",
     "text": [
      "==> Epoch 1\n"
     ]
    },
    {
     "name": "stderr",
     "output_type": "stream",
     "text": [
      "100%|██████████| 39/39 [00:00<00:00, 117.62it/s]\n",
      "100%|██████████| 38/38 [00:00<00:00, 265.74it/s]\n",
      "100%|██████████| 39/39 [00:00<00:00, 265.29it/s]\n",
      "100%|██████████| 42/42 [00:00<00:00, 264.15it/s]\n"
     ]
    },
    {
     "name": "stdout",
     "output_type": "stream",
     "text": [
      "Validation Loss: 69.038\n",
      "==> Epoch 2\n"
     ]
    },
    {
     "name": "stderr",
     "output_type": "stream",
     "text": [
      "100%|██████████| 39/39 [00:00<00:00, 263.52it/s]\n",
      "100%|██████████| 38/38 [00:00<00:00, 275.37it/s]\n",
      "100%|██████████| 39/39 [00:00<00:00, 276.60it/s]\n",
      "100%|██████████| 42/42 [00:00<00:00, 269.23it/s]\n"
     ]
    },
    {
     "name": "stdout",
     "output_type": "stream",
     "text": [
      "Validation Loss: 24.658\n",
      "==> Epoch 3\n"
     ]
    },
    {
     "name": "stderr",
     "output_type": "stream",
     "text": [
      "100%|██████████| 39/39 [00:00<00:00, 258.28it/s]\n",
      "100%|██████████| 38/38 [00:00<00:00, 281.51it/s]\n",
      "100%|██████████| 39/39 [00:00<00:00, 204.79it/s]\n",
      "100%|██████████| 42/42 [00:00<00:00, 250.93it/s]\n"
     ]
    },
    {
     "name": "stdout",
     "output_type": "stream",
     "text": [
      "Validation Loss: 14.066\n",
      "==> Epoch 4\n"
     ]
    },
    {
     "name": "stderr",
     "output_type": "stream",
     "text": [
      "100%|██████████| 39/39 [00:00<00:00, 261.75it/s]\n",
      "100%|██████████| 38/38 [00:00<00:00, 285.71it/s]\n",
      "100%|██████████| 39/39 [00:00<00:00, 274.64it/s]\n",
      "100%|██████████| 42/42 [00:00<00:00, 278.17it/s]\n"
     ]
    },
    {
     "name": "stdout",
     "output_type": "stream",
     "text": [
      "Validation Loss: 9.244\n",
      "==> Epoch 5\n"
     ]
    },
    {
     "name": "stderr",
     "output_type": "stream",
     "text": [
      "100%|██████████| 39/39 [00:00<00:00, 268.96it/s]\n",
      "100%|██████████| 38/38 [00:00<00:00, 238.99it/s]\n",
      "100%|██████████| 39/39 [00:00<00:00, 232.14it/s]\n",
      "100%|██████████| 42/42 [00:00<00:00, 253.01it/s]\n"
     ]
    },
    {
     "name": "stdout",
     "output_type": "stream",
     "text": [
      "Validation Loss: 6.264\n",
      "==> Epoch 6\n"
     ]
    },
    {
     "name": "stderr",
     "output_type": "stream",
     "text": [
      "100%|██████████| 39/39 [00:00<00:00, 246.20it/s]\n",
      "100%|██████████| 38/38 [00:00<00:00, 253.33it/s]\n",
      "100%|██████████| 39/39 [00:00<00:00, 236.36it/s]\n",
      "100%|██████████| 42/42 [00:00<00:00, 245.61it/s]\n"
     ]
    },
    {
     "name": "stdout",
     "output_type": "stream",
     "text": [
      "Validation Loss: 4.522\n",
      "==> Epoch 7\n"
     ]
    },
    {
     "name": "stderr",
     "output_type": "stream",
     "text": [
      "100%|██████████| 39/39 [00:00<00:00, 236.37it/s]\n",
      "100%|██████████| 38/38 [00:00<00:00, 243.59it/s]\n",
      "100%|██████████| 39/39 [00:00<00:00, 231.44it/s]\n",
      "100%|██████████| 42/42 [00:00<00:00, 212.12it/s]\n"
     ]
    },
    {
     "name": "stdout",
     "output_type": "stream",
     "text": [
      "Validation Loss: 3.494\n",
      "==> Epoch 8\n"
     ]
    },
    {
     "name": "stderr",
     "output_type": "stream",
     "text": [
      "100%|██████████| 39/39 [00:00<00:00, 230.77it/s]\n",
      "100%|██████████| 38/38 [00:00<00:00, 243.58it/s]\n",
      "100%|██████████| 39/39 [00:00<00:00, 230.77it/s]\n",
      "100%|██████████| 42/42 [00:00<00:00, 245.61it/s]\n"
     ]
    },
    {
     "name": "stdout",
     "output_type": "stream",
     "text": [
      "Validation Loss: 2.736\n",
      "==> Epoch 9\n"
     ]
    },
    {
     "name": "stderr",
     "output_type": "stream",
     "text": [
      "100%|██████████| 39/39 [00:00<00:00, 248.42it/s]\n",
      "100%|██████████| 38/38 [00:00<00:00, 269.50it/s]\n",
      "100%|██████████| 39/39 [00:00<00:00, 270.82it/s]\n",
      "100%|██████████| 42/42 [00:00<00:00, 276.32it/s]\n"
     ]
    },
    {
     "name": "stdout",
     "output_type": "stream",
     "text": [
      "Validation Loss: 2.173\n",
      "==> Epoch 10\n"
     ]
    },
    {
     "name": "stderr",
     "output_type": "stream",
     "text": [
      "100%|██████████| 39/39 [00:00<00:00, 268.97it/s]\n",
      "100%|██████████| 38/38 [00:00<00:00, 273.38it/s]\n",
      "100%|██████████| 39/39 [00:00<00:00, 268.88it/s]\n",
      "100%|██████████| 42/42 [00:00<00:00, 276.31it/s]\n"
     ]
    },
    {
     "name": "stdout",
     "output_type": "stream",
     "text": [
      "Validation Loss: 1.901\n",
      "==> Epoch 11\n"
     ]
    },
    {
     "name": "stderr",
     "output_type": "stream",
     "text": [
      "100%|██████████| 39/39 [00:00<00:00, 291.01it/s]\n",
      "100%|██████████| 38/38 [00:00<00:00, 261.82it/s]\n",
      "100%|██████████| 39/39 [00:00<00:00, 284.67it/s]\n",
      "100%|██████████| 42/42 [00:00<00:00, 280.00it/s]\n"
     ]
    },
    {
     "name": "stdout",
     "output_type": "stream",
     "text": [
      "Validation Loss: 1.574\n",
      "==> Epoch 12\n"
     ]
    },
    {
     "name": "stderr",
     "output_type": "stream",
     "text": [
      "100%|██████████| 39/39 [00:00<00:00, 276.60it/s]\n",
      "100%|██████████| 38/38 [00:00<00:00, 273.38it/s]\n",
      "100%|██████████| 39/39 [00:00<00:00, 288.89it/s]\n",
      "100%|██████████| 42/42 [00:00<00:00, 278.15it/s]\n"
     ]
    },
    {
     "name": "stdout",
     "output_type": "stream",
     "text": [
      "Validation Loss: 1.336\n",
      "==> Epoch 13\n"
     ]
    },
    {
     "name": "stderr",
     "output_type": "stream",
     "text": [
      "100%|██████████| 39/39 [00:00<00:00, 270.84it/s]\n",
      "100%|██████████| 38/38 [00:00<00:00, 273.38it/s]\n",
      "100%|██████████| 39/39 [00:00<00:00, 293.23it/s]\n",
      "100%|██████████| 42/42 [00:00<00:00, 289.65it/s]\n"
     ]
    },
    {
     "name": "stdout",
     "output_type": "stream",
     "text": [
      "Validation Loss: 1.208\n",
      "==> Epoch 14\n"
     ]
    },
    {
     "name": "stderr",
     "output_type": "stream",
     "text": [
      "100%|██████████| 39/39 [00:00<00:00, 274.65it/s]\n",
      "100%|██████████| 38/38 [00:00<00:00, 283.58it/s]\n",
      "100%|██████████| 39/39 [00:00<00:00, 274.65it/s]\n",
      "100%|██████████| 42/42 [00:00<00:00, 278.15it/s]\n"
     ]
    },
    {
     "name": "stdout",
     "output_type": "stream",
     "text": [
      "Validation Loss: 1.176\n",
      "==> Epoch 15\n"
     ]
    },
    {
     "name": "stderr",
     "output_type": "stream",
     "text": [
      "100%|██████████| 39/39 [00:00<00:00, 268.96it/s]\n",
      "100%|██████████| 38/38 [00:00<00:00, 281.48it/s]\n",
      "100%|██████████| 39/39 [00:00<00:00, 280.56it/s]\n",
      "100%|██████████| 42/42 [00:00<00:00, 267.52it/s]\n"
     ]
    },
    {
     "name": "stdout",
     "output_type": "stream",
     "text": [
      "Validation Loss: 1.033\n",
      "==> Epoch 16\n"
     ]
    },
    {
     "name": "stderr",
     "output_type": "stream",
     "text": [
      "100%|██████████| 39/39 [00:00<00:00, 278.57it/s]\n",
      "100%|██████████| 38/38 [00:00<00:00, 237.50it/s]\n",
      "100%|██████████| 39/39 [00:00<00:00, 284.66it/s]\n",
      "100%|██████████| 42/42 [00:00<00:00, 297.87it/s]\n"
     ]
    },
    {
     "name": "stdout",
     "output_type": "stream",
     "text": [
      "Validation Loss: 0.879\n",
      "==> Epoch 17\n"
     ]
    },
    {
     "name": "stderr",
     "output_type": "stream",
     "text": [
      "100%|██████████| 39/39 [00:00<00:00, 286.76it/s]\n",
      "100%|██████████| 38/38 [00:00<00:00, 279.42it/s]\n",
      "100%|██████████| 39/39 [00:00<00:00, 293.22it/s]\n",
      "100%|██████████| 42/42 [00:00<00:00, 280.00it/s]\n"
     ]
    },
    {
     "name": "stdout",
     "output_type": "stream",
     "text": [
      "Validation Loss: 0.809\n",
      "==> Epoch 18\n"
     ]
    },
    {
     "name": "stderr",
     "output_type": "stream",
     "text": [
      "100%|██████████| 39/39 [00:00<00:00, 276.59it/s]\n",
      "100%|██████████| 38/38 [00:00<00:00, 287.90it/s]\n",
      "100%|██████████| 39/39 [00:00<00:00, 282.61it/s]\n",
      "100%|██████████| 42/42 [00:00<00:00, 285.71it/s]\n"
     ]
    },
    {
     "name": "stdout",
     "output_type": "stream",
     "text": [
      "Validation Loss: 0.898\n",
      "==> Epoch 19\n"
     ]
    },
    {
     "name": "stderr",
     "output_type": "stream",
     "text": [
      "100%|██████████| 39/39 [00:00<00:00, 284.67it/s]\n",
      "100%|██████████| 38/38 [00:00<00:00, 277.37it/s]\n",
      "100%|██████████| 39/39 [00:00<00:00, 295.45it/s]\n",
      "100%|██████████| 42/42 [00:00<00:00, 289.66it/s]\n"
     ]
    },
    {
     "name": "stdout",
     "output_type": "stream",
     "text": [
      "Validation Loss: 0.814\n",
      "==> Epoch 20\n"
     ]
    },
    {
     "name": "stderr",
     "output_type": "stream",
     "text": [
      "100%|██████████| 39/39 [00:00<00:00, 276.60it/s]\n",
      "100%|██████████| 38/38 [00:00<00:00, 233.13it/s]\n",
      "100%|██████████| 39/39 [00:00<00:00, 272.73it/s]\n",
      "100%|██████████| 42/42 [00:00<00:00, 269.23it/s]\n"
     ]
    },
    {
     "name": "stdout",
     "output_type": "stream",
     "text": [
      "Validation Loss: 0.746\n",
      "==> Epoch 21\n"
     ]
    },
    {
     "name": "stderr",
     "output_type": "stream",
     "text": [
      "100%|██████████| 39/39 [00:00<00:00, 267.12it/s]\n",
      "100%|██████████| 38/38 [00:00<00:00, 267.61it/s]\n",
      "100%|██████████| 39/39 [00:00<00:00, 288.89it/s]\n",
      "100%|██████████| 42/42 [00:00<00:00, 270.97it/s]\n"
     ]
    },
    {
     "name": "stdout",
     "output_type": "stream",
     "text": [
      "Validation Loss: 0.655\n",
      "==> Epoch 22\n"
     ]
    },
    {
     "name": "stderr",
     "output_type": "stream",
     "text": [
      "100%|██████████| 39/39 [00:00<00:00, 274.65it/s]\n",
      "100%|██████████| 38/38 [00:00<00:00, 285.70it/s]\n",
      "100%|██████████| 39/39 [00:00<00:00, 276.59it/s]\n",
      "100%|██████████| 42/42 [00:00<00:00, 287.68it/s]\n"
     ]
    },
    {
     "name": "stdout",
     "output_type": "stream",
     "text": [
      "Validation Loss: 0.703\n",
      "==> Epoch 23\n"
     ]
    },
    {
     "name": "stderr",
     "output_type": "stream",
     "text": [
      "100%|██████████| 39/39 [00:00<00:00, 232.14it/s]\n",
      "100%|██████████| 38/38 [00:00<00:00, 265.72it/s]\n",
      "100%|██████████| 39/39 [00:00<00:00, 254.90it/s]\n",
      "100%|██████████| 42/42 [00:00<00:00, 242.77it/s]\n"
     ]
    },
    {
     "name": "stdout",
     "output_type": "stream",
     "text": [
      "Validation Loss: 0.548\n",
      "==> Epoch 24\n"
     ]
    },
    {
     "name": "stderr",
     "output_type": "stream",
     "text": [
      "100%|██████████| 39/39 [00:00<00:00, 268.96it/s]\n",
      "100%|██████████| 38/38 [00:00<00:00, 267.61it/s]\n",
      "100%|██████████| 39/39 [00:00<00:00, 258.27it/s]\n",
      "100%|██████████| 42/42 [00:00<00:00, 291.67it/s]\n"
     ]
    },
    {
     "name": "stdout",
     "output_type": "stream",
     "text": [
      "Validation Loss: 0.519\n",
      "==> Epoch 25\n"
     ]
    },
    {
     "name": "stderr",
     "output_type": "stream",
     "text": [
      "100%|██████████| 39/39 [00:00<00:00, 282.61it/s]\n",
      "100%|██████████| 38/38 [00:00<00:00, 275.35it/s]\n",
      "100%|██████████| 39/39 [00:00<00:00, 284.68it/s]\n",
      "100%|██████████| 42/42 [00:00<00:00, 278.14it/s]\n"
     ]
    },
    {
     "name": "stdout",
     "output_type": "stream",
     "text": [
      "Validation Loss: 0.542\n",
      "==> Epoch 26\n"
     ]
    },
    {
     "name": "stderr",
     "output_type": "stream",
     "text": [
      "100%|██████████| 39/39 [00:00<00:00, 293.23it/s]\n",
      "100%|██████████| 38/38 [00:00<00:00, 281.48it/s]\n",
      "100%|██████████| 39/39 [00:00<00:00, 270.83it/s]\n",
      "100%|██████████| 42/42 [00:00<00:00, 276.32it/s]\n"
     ]
    },
    {
     "name": "stdout",
     "output_type": "stream",
     "text": [
      "Validation Loss: 0.493\n",
      "==> Epoch 27\n"
     ]
    },
    {
     "name": "stderr",
     "output_type": "stream",
     "text": [
      "100%|██████████| 39/39 [00:00<00:00, 272.73it/s]\n",
      "100%|██████████| 38/38 [00:00<00:00, 273.38it/s]\n",
      "100%|██████████| 39/39 [00:00<00:00, 268.97it/s]\n",
      "100%|██████████| 42/42 [00:00<00:00, 281.87it/s]\n"
     ]
    },
    {
     "name": "stdout",
     "output_type": "stream",
     "text": [
      "Validation Loss: 0.454\n",
      "==> Epoch 28\n"
     ]
    },
    {
     "name": "stderr",
     "output_type": "stream",
     "text": [
      "100%|██████████| 39/39 [00:00<00:00, 278.58it/s]\n",
      "100%|██████████| 38/38 [00:00<00:00, 279.41it/s]\n",
      "100%|██████████| 39/39 [00:00<00:00, 282.59it/s]\n",
      "100%|██████████| 42/42 [00:00<00:00, 287.68it/s]\n"
     ]
    },
    {
     "name": "stdout",
     "output_type": "stream",
     "text": [
      "Validation Loss: 0.482\n",
      "==> Epoch 29\n"
     ]
    },
    {
     "name": "stderr",
     "output_type": "stream",
     "text": [
      "100%|██████████| 39/39 [00:00<00:00, 276.59it/s]\n",
      "100%|██████████| 38/38 [00:00<00:00, 283.58it/s]\n",
      "100%|██████████| 39/39 [00:00<00:00, 298.93it/s]\n",
      "100%|██████████| 42/42 [00:00<00:00, 225.81it/s]\n"
     ]
    },
    {
     "name": "stdout",
     "output_type": "stream",
     "text": [
      "Validation Loss: 0.547\n",
      "==> Epoch 30\n"
     ]
    },
    {
     "name": "stderr",
     "output_type": "stream",
     "text": [
      "100%|██████████| 39/39 [00:00<00:00, 280.58it/s]\n",
      "100%|██████████| 38/38 [00:00<00:00, 287.88it/s]\n",
      "100%|██████████| 39/39 [00:00<00:00, 286.76it/s]\n",
      "100%|██████████| 42/42 [00:00<00:00, 276.31it/s]\n"
     ]
    },
    {
     "name": "stdout",
     "output_type": "stream",
     "text": [
      "Validation Loss: 0.386\n",
      "==> Epoch 31\n"
     ]
    },
    {
     "name": "stderr",
     "output_type": "stream",
     "text": [
      "100%|██████████| 39/39 [00:00<00:00, 280.57it/s]\n",
      "100%|██████████| 38/38 [00:00<00:00, 275.38it/s]\n",
      "100%|██████████| 39/39 [00:00<00:00, 293.23it/s]\n",
      "100%|██████████| 42/42 [00:00<00:00, 278.15it/s]\n"
     ]
    },
    {
     "name": "stdout",
     "output_type": "stream",
     "text": [
      "Validation Loss: 0.359\n",
      "==> Epoch 32\n"
     ]
    },
    {
     "name": "stderr",
     "output_type": "stream",
     "text": [
      "100%|██████████| 39/39 [00:00<00:00, 284.65it/s]\n",
      "100%|██████████| 38/38 [00:00<00:00, 290.08it/s]\n",
      "100%|██████████| 39/39 [00:00<00:00, 278.57it/s]\n",
      "100%|██████████| 42/42 [00:00<00:00, 283.79it/s]\n"
     ]
    },
    {
     "name": "stdout",
     "output_type": "stream",
     "text": [
      "Validation Loss: 0.415\n",
      "==> Epoch 33\n"
     ]
    },
    {
     "name": "stderr",
     "output_type": "stream",
     "text": [
      "100%|██████████| 39/39 [00:00<00:00, 282.61it/s]\n",
      "100%|██████████| 38/38 [00:00<00:00, 301.59it/s]\n",
      "100%|██████████| 39/39 [00:00<00:00, 276.59it/s]\n",
      "100%|██████████| 42/42 [00:00<00:00, 269.23it/s]\n"
     ]
    },
    {
     "name": "stdout",
     "output_type": "stream",
     "text": [
      "Validation Loss: 0.393\n",
      "==> Epoch 34\n"
     ]
    },
    {
     "name": "stderr",
     "output_type": "stream",
     "text": [
      "100%|██████████| 39/39 [00:00<00:00, 261.74it/s]\n",
      "100%|██████████| 38/38 [00:00<00:00, 281.49it/s]\n",
      "100%|██████████| 39/39 [00:00<00:00, 277.57it/s]\n",
      "100%|██████████| 42/42 [00:00<00:00, 293.70it/s]\n"
     ]
    },
    {
     "name": "stdout",
     "output_type": "stream",
     "text": [
      "Validation Loss: 0.310\n",
      "==> Epoch 35\n"
     ]
    },
    {
     "name": "stderr",
     "output_type": "stream",
     "text": [
      "100%|██████████| 39/39 [00:00<00:00, 288.89it/s]\n",
      "100%|██████████| 38/38 [00:00<00:00, 273.39it/s]\n",
      "100%|██████████| 39/39 [00:00<00:00, 282.61it/s]\n",
      "100%|██████████| 42/42 [00:00<00:00, 297.87it/s]\n"
     ]
    },
    {
     "name": "stdout",
     "output_type": "stream",
     "text": [
      "Validation Loss: 0.318\n",
      "==> Epoch 36\n"
     ]
    },
    {
     "name": "stderr",
     "output_type": "stream",
     "text": [
      "100%|██████████| 39/39 [00:00<00:00, 288.89it/s]\n",
      "100%|██████████| 38/38 [00:00<00:00, 274.72it/s]\n",
      "100%|██████████| 39/39 [00:00<00:00, 284.67it/s]\n",
      "100%|██████████| 42/42 [00:00<00:00, 287.42it/s]\n"
     ]
    },
    {
     "name": "stdout",
     "output_type": "stream",
     "text": [
      "Validation Loss: 0.314\n",
      "==> Epoch 37\n"
     ]
    },
    {
     "name": "stderr",
     "output_type": "stream",
     "text": [
      "100%|██████████| 39/39 [00:00<00:00, 295.46it/s]\n",
      "100%|██████████| 38/38 [00:00<00:00, 237.50it/s]\n",
      "100%|██████████| 39/39 [00:00<00:00, 270.62it/s]\n",
      "100%|██████████| 42/42 [00:00<00:00, 281.88it/s]\n"
     ]
    },
    {
     "name": "stdout",
     "output_type": "stream",
     "text": [
      "Validation Loss: 0.281\n",
      "==> Epoch 38\n"
     ]
    },
    {
     "name": "stderr",
     "output_type": "stream",
     "text": [
      "100%|██████████| 39/39 [00:00<00:00, 288.89it/s]\n",
      "100%|██████████| 38/38 [00:00<00:00, 275.36it/s]\n",
      "100%|██████████| 39/39 [00:00<00:00, 309.52it/s]\n",
      "100%|██████████| 42/42 [00:00<00:00, 274.50it/s]\n"
     ]
    },
    {
     "name": "stdout",
     "output_type": "stream",
     "text": [
      "Validation Loss: 0.331\n",
      "==> Epoch 39\n"
     ]
    },
    {
     "name": "stderr",
     "output_type": "stream",
     "text": [
      "100%|██████████| 39/39 [00:00<00:00, 293.24it/s]\n",
      "100%|██████████| 38/38 [00:00<00:00, 296.87it/s]\n",
      "100%|██████████| 39/39 [00:00<00:00, 288.89it/s]\n",
      "100%|██████████| 42/42 [00:00<00:00, 283.78it/s]\n"
     ]
    },
    {
     "name": "stdout",
     "output_type": "stream",
     "text": [
      "Validation Loss: 0.295\n",
      "==> Epoch 40\n"
     ]
    },
    {
     "name": "stderr",
     "output_type": "stream",
     "text": [
      "100%|██████████| 39/39 [00:00<00:00, 291.04it/s]\n",
      "100%|██████████| 38/38 [00:00<00:00, 281.49it/s]\n",
      "100%|██████████| 39/39 [00:00<00:00, 288.89it/s]\n",
      "100%|██████████| 42/42 [00:00<00:00, 279.99it/s]"
     ]
    },
    {
     "name": "stdout",
     "output_type": "stream",
     "text": [
      "Validation Loss: 0.288\n"
     ]
    },
    {
     "name": "stderr",
     "output_type": "stream",
     "text": [
      "\n"
     ]
    }
   ],
   "source": [
    "for epoch in range(NUM_EPOCHS):\n",
    "    model.train()\n",
    "    print(f'==> Epoch {epoch+1}')\n",
    "    \n",
    "    for loader in train_loaders:\n",
    "        for inputs, targets in tqdm(loader):\n",
    "            inputs, targets = inputs.to(device), targets.to(device)\n",
    "            inputs = inputs.unsqueeze(1)\n",
    "            optimizer.zero_grad()\n",
    "            outputs = model(inputs)\n",
    "            loss = criterion(outputs, targets)\n",
    "            loss.backward()\n",
    "            optimizer.step()\n",
    "    \n",
    "    val_loss = test(val_loader, model, criterion)\n",
    "    print(f'Validation Loss: {val_loss:.3f}')"
   ]
  },
  {
   "cell_type": "markdown",
   "metadata": {},
   "source": [
    "# Testing Metrics"
   ]
  },
  {
   "cell_type": "code",
   "execution_count": 10,
   "metadata": {},
   "outputs": [
    {
     "name": "stdout",
     "output_type": "stream",
     "text": [
      "Mean Squared Error (MSE): 0.49089733\n",
      "Mean Absolute Error (MAE): 0.1764529\n",
      "R-squared (R2): 0.9849273562431335\n"
     ]
    }
   ],
   "source": [
    "from sklearn.metrics import mean_squared_error, mean_absolute_error, r2_score\n",
    "\n",
    "model.eval()\n",
    "predictions = []\n",
    "true_labels = []\n",
    "\n",
    "with torch.no_grad():\n",
    "    for inputs, targets in test_loader:\n",
    "        inputs, targets = inputs.to(device), targets.to(device)\n",
    "        inputs = inputs.unsqueeze(1) \n",
    "        outputs = model(inputs)\n",
    "        \n",
    "        targets_np = targets.cpu().numpy()\n",
    "        outputs_np = outputs.cpu().numpy()\n",
    "        \n",
    "        true_labels.extend(targets_np)\n",
    "        predictions.extend(outputs_np)\n",
    "\n",
    "predictions = np.array(predictions)\n",
    "true_labels = np.array(true_labels)\n",
    "\n",
    "mse = mean_squared_error(true_labels, predictions)\n",
    "mae = mean_absolute_error(true_labels, predictions)\n",
    "r2 = r2_score(true_labels, predictions)\n",
    "\n",
    "print(\"Mean Squared Error (MSE):\", mse)\n",
    "print(\"Mean Absolute Error (MAE):\", mae)\n",
    "print(\"R-squared (R2):\", r2)"
   ]
  },
  {
   "cell_type": "markdown",
   "metadata": {},
   "source": [
    "# Plot Predicted vs Actual Season Statistics"
   ]
  },
  {
   "cell_type": "code",
   "execution_count": null,
   "metadata": {},
   "outputs": [],
   "source": [
    "import matplotlib.pyplot as plt\n",
    "\n",
    "for i, metric in enumerate(['PTS', 'REB', 'AST', 'STL', 'BLK']):\n",
    "    plt.figure(figsize=(10, 6))\n",
    "    plt.plot(true_labels[:, i], label='Actual', marker='o')\n",
    "    plt.plot(np.maximum(np.round(predictions[:, i]), 0), label='Predicted', marker='x')\n",
    "    plt.title(f'{metric}: Predicted vs Actual')\n",
    "    plt.xlabel('Game')\n",
    "    plt.ylabel(metric)\n",
    "    plt.legend()\n",
    "    plt.show()\n",
    "\n"
   ]
  },
  {
   "cell_type": "markdown",
   "metadata": {},
   "source": [
    "# Find Game Specific Stats"
   ]
  },
  {
   "cell_type": "code",
   "execution_count": null,
   "metadata": {},
   "outputs": [],
   "source": [
    "def find_game_index_by_date(target_game_date):\n",
    "    with open(json_file_paths[5], 'r') as f:\n",
    "        data = json.load(f)\n",
    "    \n",
    "    for index, game in enumerate(data):\n",
    "        if game.get('GAME_DATE') == target_game_date:\n",
    "            return index\n",
    "    \n",
    "    # Return None if game date is not found\n",
    "    return None"
   ]
  },
  {
   "cell_type": "code",
   "execution_count": null,
   "metadata": {},
   "outputs": [],
   "source": [
    "def plot_predictions_vs_actuals_for_game(model, loader, device, game_date):\n",
    "    model.eval()\n",
    "    game_index = find_game_index_by_date(game_date)\n",
    "    \n",
    "    # Get inputs and targets for the specified game\n",
    "    inputs, targets = next(iter(loader))\n",
    "    inputs, targets = inputs[game_index].unsqueeze(0).unsqueeze(0).to(device), targets[game_index].unsqueeze(0).unsqueeze(0).to(device)\n",
    "    \n",
    "    with torch.no_grad():\n",
    "        outputs = model(inputs)\n",
    "        predictions = outputs.cpu().numpy()\n",
    "        true_labels = targets.cpu().numpy()\n",
    "    \n",
    "    rounded_predictions = np.maximum(np.round(predictions.flatten()), 0)\n",
    "\n",
    "    plt.figure(figsize=(8, 5))\n",
    "    plt.plot(true_labels.flatten(), label='Actual', marker='o')\n",
    "    plt.plot(rounded_predictions, label='Predicted', marker='x')\n",
    "\n",
    "    print(\"Predicted Values:\", rounded_predictions)\n",
    "    print(\"Actual Values:\", true_labels.flatten())\n",
    "\n",
    "    metric_names = ['PTS', 'REB', 'AST', 'STL', 'BLK']  # Example metric names\n",
    "    plt.xticks(np.arange(len(metric_names)), metric_names)  # Set the ticks and labels\n",
    "\n",
    "    plt.title(f'Predicted vs Actual for Game {game_date}')\n",
    "    plt.xlabel('Metric')\n",
    "    plt.legend()\n",
    "    plt.show()\n",
    "\n",
    "plot_predictions_vs_actuals_for_game(model, test_loader, device, \"2024-06-09\")\n"
   ]
  },
  {
   "cell_type": "markdown",
   "metadata": {},
   "source": [
    "# Predict future game score"
   ]
  },
  {
   "cell_type": "code",
   "execution_count": null,
   "metadata": {},
   "outputs": [],
   "source": [
    "def json_to_numpy(json_file):\n",
    "    with open(json_file, 'r') as f:\n",
    "        data = json.load(f)\n",
    "    \n",
    "    metrics_list = []\n",
    "    \n",
    "    for game in data:\n",
    "        metrics = [\n",
    "            game['PTS'],\n",
    "            game['REB'],\n",
    "            game['AST'],\n",
    "            game['STL'],\n",
    "            game['BLK']\n",
    "        ]\n",
    "        metrics_list.append(metrics)\n",
    "    \n",
    "    metrics_array = np.array(metrics_list)\n",
    "    \n",
    "    return metrics_array\n",
    "\n",
    "historical_data = json_to_numpy(json_file_paths[-1])"
   ]
  },
  {
   "cell_type": "code",
   "execution_count": null,
   "metadata": {},
   "outputs": [],
   "source": [
    "def predict_next_game(model, historical_data):\n",
    "    model.eval()\n",
    "    \n",
    "    # Calculate average or median of historical data\n",
    "    avg_metrics = np.mean(historical_data, axis=0)  # Calculate average along rows (axis=0)\n",
    "    \n",
    "    # Prepare input tensor\n",
    "    input_data = torch.tensor(avg_metrics, dtype=torch.float32).unsqueeze(0).unsqueeze(0).to(device)\n",
    "    \n",
    "    with torch.no_grad():\n",
    "        outputs = model(input_data)\n",
    "        predictions = outputs.cpu().numpy()\n",
    "    \n",
    "    return np.maximum(np.round(predictions.flatten()), 0)"
   ]
  },
  {
   "cell_type": "code",
   "execution_count": null,
   "metadata": {},
   "outputs": [],
   "source": [
    "# Example usage:\n",
    "predicted_metrics = predict_next_game(model, historical_data)\n",
    "print(\"Predicted Metrics for Next Game based on Historical Data:\", predicted_metrics)"
   ]
  }
 ],
 "metadata": {
  "kernelspec": {
   "display_name": "Python 3",
   "language": "python",
   "name": "python3"
  },
  "language_info": {
   "codemirror_mode": {
    "name": "ipython",
    "version": 3
   },
   "file_extension": ".py",
   "mimetype": "text/x-python",
   "name": "python",
   "nbconvert_exporter": "python",
   "pygments_lexer": "ipython3",
   "version": "3.10.6"
  }
 },
 "nbformat": 4,
 "nbformat_minor": 2
}
